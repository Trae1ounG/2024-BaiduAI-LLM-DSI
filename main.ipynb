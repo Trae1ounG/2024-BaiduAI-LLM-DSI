{
 "cells": [
  {
   "cell_type": "markdown",
   "metadata": {
    "tags": []
   },
   "source": [
    "# 基于大模型的广告检索\n",
    "\n",
    "## 1. 数据集说明\n",
    "```\n",
    "|--fusai-2024-cti-bigmodel-retrieval-data\n",
    "| |--train_data.csv       -> 训练数据集\n",
    "| |--dev_data.csv         -> 验证数据集\n",
    "| |--ad_landingpage.txt   -> 广告落地页特征\n",
    "| |--ad_core_term.txt\t-> 广告核心词特征\n",
    "```\n",
    "\n",
    "\n",
    "1. train_data.csv / dev_data 训练/测试数据集\n",
    "\n",
    "    每一行数据对应点击行为的聚合，数据列间用 \\t 分割\n",
    "\n",
    "    | 字段  |    说明    |\n",
    "    | :---: | :--------: |\n",
    "    |   q   | 网民搜索词 |\n",
    "    | ad_id |  广告 ID   |\n",
    "    | click |  点击次数  |\n",
    "    \n",
    "2. ad_landingpage.txt 广告落地页特征\n",
    "\n",
    "   |    字段    |                 说明                 |\n",
    "   | :--------: | :----------------------------------: |\n",
    "   |   ad_id    |               广告 ID                |\n",
    "   | lp_content | 落地页内容，不同段落间用\\<block>连接 |\n",
    "\n",
    "3. ad_core_term.txt 广告核心词特征(基于百度商业积累，对广告投放页面提取的业务关键字)\n",
    "\n",
    "   |    字段    |                 说明                 |\n",
    "   | :--------: | :----------------------------------: |\n",
    "   |   ad_id    |               广告 ID                |\n",
    "   | core_terms | 核心词内容，不同核心词间用\\<sep>连接 |\n",
    "\n",
    "\n",
    "## 2. 代码结构\n",
    "```bash\n",
    "|--work\n",
    "| |--data            -> 数据\n",
    "| |--GenRetr      -> 生成式检索训练代码\n",
    "| |--scripts         -> 数据准备\n",
    "| |--submit_templates   -> 模型提交模板\n",
    "| | |--GenRetr_submit    -> 生成式检索提交模板\n",
    "|--main.ipynb\n",
    "\n"
   ]
  },
  {
   "cell_type": "code",
   "execution_count": 2,
   "metadata": {
    "execution": {
     "iopub.execute_input": "2024-08-16T12:21:35.371962Z",
     "iopub.status.busy": "2024-08-16T12:21:35.371385Z",
     "iopub.status.idle": "2024-08-16T12:22:07.619013Z",
     "shell.execute_reply": "2024-08-16T12:22:07.617741Z",
     "shell.execute_reply.started": "2024-08-16T12:21:35.371925Z"
    },
    "scrolled": true,
    "tags": []
   },
   "outputs": [
    {
     "name": "stdout",
     "output_type": "stream",
     "text": [
      "fusai-2024-cti-bigmodel-retrieval-data/\r\n",
      "fusai-2024-cti-bigmodel-retrieval-data/train_data.csv\r\n",
      "fusai-2024-cti-bigmodel-retrieval-data/ad_landingpage.txt\r\n",
      "fusai-2024-cti-bigmodel-retrieval-data/ad_core_term.txt\r\n",
      "fusai-2024-cti-bigmodel-retrieval-data/dev_data.csv\r\n"
     ]
    }
   ],
   "source": [
    "## 解压数据集\n",
    "!tar -zxvf /home/aistudio/data/data274453/fusai-2024-cti-bigmodel-retrieval-data.tar.gz \n",
    "\n",
    "# -C /home/aistudio/work/data/"
   ]
  },
  {
   "cell_type": "code",
   "execution_count": 13,
   "metadata": {
    "execution": {
     "iopub.execute_input": "2024-08-15T12:55:50.520571Z",
     "iopub.status.busy": "2024-08-15T12:55:50.519758Z",
     "iopub.status.idle": "2024-08-15T12:56:21.323003Z",
     "shell.execute_reply": "2024-08-15T12:56:21.321706Z",
     "shell.execute_reply.started": "2024-08-15T12:55:50.520518Z"
    },
    "scrolled": true
   },
   "outputs": [
    {
     "name": "stdout",
     "output_type": "stream",
     "text": [
      "load train data done\r\n",
      "write train json done\r\n",
      "load dev data done\r\n",
      "write dev json done\r\n"
     ]
    }
   ],
   "source": [
    "## 数据准备(fusai_query)\n",
    "!python /home/aistudio/work/scripts/prepare_data_gen_ret.py"
   ]
  },
  {
   "cell_type": "code",
   "execution_count": 11,
   "metadata": {
    "execution": {
     "iopub.execute_input": "2024-08-15T12:46:52.687935Z",
     "iopub.status.busy": "2024-08-15T12:46:52.687266Z",
     "iopub.status.idle": "2024-08-15T12:47:04.874580Z",
     "shell.execute_reply": "2024-08-15T12:47:04.873338Z",
     "shell.execute_reply.started": "2024-08-15T12:46:52.687901Z"
    },
    "scrolled": true,
    "tags": []
   },
   "outputs": [
    {
     "name": "stdout",
     "output_type": "stream",
     "text": [
      "JSON objects have been written to /home/aistudio/work/data/fusai_core_terms_to_query.json.\r\n"
     ]
    }
   ],
   "source": [
    "## 数据准备(fusai_core_terms_to_query)\n",
    "!python /home/aistudio/work/scripts/core_terms_to_query.py"
   ]
  },
  {
   "cell_type": "code",
   "execution_count": null,
   "metadata": {
    "scrolled": true
   },
   "outputs": [],
   "source": [
    "## 数据准备(fusai_cleaned_ollama_1.json,fusai_cleaned_ollama_all.json介绍)\n",
    "## A. 利用ollama框架进行数据合成\n",
    "## 1. 根据广告内容总结生成精简版的广告，得到 train_indexing_qwen_merge.json\n",
    "!python /home/aistudio/work/scripts/ollama/test_ollama_summarization.py\n",
    "## 2. 按顺序执行/home/aistudio/work/scripts/ollama/wash.ipynb，对数据做一定的清洗,得到 train_indexing_qwen_merge_cleaned.json\n",
    "\n",
    "## 3. 按顺序执行/home/aistudio/work/scripts/ollama/handle_data.ipynb,对ollama数据做筛选,得到180w fusai_cleaned_ollama_1.json\n",
    "\n",
    "## 4. 全部tgt进行增强\n",
    "!python /home/aistudio/work/scripts/ollama/test_ollama_group_all.py\n",
    "## 5. 对高点击率和对应src数较少的tgt进行增强\n",
    "### ollama qwen2:7b 组增强\n",
    "!python /home/aistudio/work/scripts/ollama/test_ollama_group.py\n",
    "### ollama qwen2:1.8b 组增强 \n",
    "!python /home/aistudio/work/scripts/ollama/test_ollama_group_qwen1.8.py\n",
    "### ollama gemma 2b 组增强 \n",
    "!python /home/aistudio/work/scripts/ollama/test_ollama_group_gemma2.py\n",
    "\n",
    "## 最终对上面涉及的数据进行合并，得到全部的ollama数据 fusai_cleaned_ollama_all.json\n"
   ]
  },
  {
   "cell_type": "code",
   "execution_count": null,
   "metadata": {
    "scrolled": true
   },
   "outputs": [],
   "source": [
    "## 模型训练\n",
    "##第一阶段\n",
    "## 原始数据与core_terms_to_query 1:1 训练 \n",
    "!bash work/GenRetr/scripts/train_2_files_stage1.sh\n",
    "##第二阶段\n",
    "## 原始数据与fusai_cleaned_ollama_1拼接，与core_terms_to_query 1:1 训练 \n",
    "!bash work/GenRetr/scripts/train_2_files.sh\n",
    "##第三阶段\n",
    "## 原始数据与fusai_cleaned_ollama_all与core_terms_to_query 1:1:1 训练 \n",
    "!bash work/GenRetr/scripts/train_3_files.sh"
   ]
  }
 ],
 "metadata": {
  "kernelspec": {
   "display_name": "Python 3",
   "language": "python",
   "name": "py35-paddle1.2.0"
  },
  "language_info": {
   "codemirror_mode": {
    "name": "ipython",
    "version": 3
   },
   "file_extension": ".py",
   "mimetype": "text/x-python",
   "name": "python",
   "nbconvert_exporter": "python",
   "pygments_lexer": "ipython3",
   "version": "3.10.10"
  }
 },
 "nbformat": 4,
 "nbformat_minor": 4
}
